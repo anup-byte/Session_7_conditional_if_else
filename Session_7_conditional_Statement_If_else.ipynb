{
 "cells": [
  {
   "cell_type": "markdown",
   "id": "289b025d",
   "metadata": {},
   "source": [
    "if case1:\n",
    "    prform action1\n",
    "\n",
    "elif case2:\n",
    "    perform action2\n",
    "    \n",
    "else:\n",
    "    perform action3\n",
    "        "
   ]
  },
  {
   "cell_type": "code",
   "execution_count": 1,
   "id": "ed724d08",
   "metadata": {},
   "outputs": [
    {
     "name": "stdout",
     "output_type": "stream",
     "text": [
      "a is greater than b\n"
     ]
    }
   ],
   "source": [
    "a = 100\n",
    "b = 50\n",
    "if a > b:\n",
    "    print(\"a is greater than b\")"
   ]
  },
  {
   "cell_type": "code",
   "execution_count": 4,
   "id": "546307b3",
   "metadata": {},
   "outputs": [
    {
     "name": "stdout",
     "output_type": "stream",
     "text": [
      "My name\n"
     ]
    }
   ],
   "source": [
    "a = 100\n",
    "b = 50\n",
    "if a < b:\n",
    "    print(\"a is less than b\")\n",
    "    \n",
    "print(\"My name\")    "
   ]
  },
  {
   "cell_type": "code",
   "execution_count": 3,
   "id": "a08b45de",
   "metadata": {},
   "outputs": [
    {
     "name": "stdout",
     "output_type": "stream",
     "text": [
      "value\n",
      "200\n"
     ]
    }
   ],
   "source": [
    "val = 200\n",
    "if val:\n",
    "    print('value')\n",
    "    print(val)"
   ]
  },
  {
   "cell_type": "code",
   "execution_count": 6,
   "id": "6464991f",
   "metadata": {},
   "outputs": [
    {
     "name": "stdout",
     "output_type": "stream",
     "text": [
      "It is true\n",
      "72\n"
     ]
    }
   ],
   "source": [
    "if True:\n",
    "    print(\"It is true\")\n",
    "    print(8*9)"
   ]
  },
  {
   "cell_type": "code",
   "execution_count": 7,
   "id": "745d79a4",
   "metadata": {},
   "outputs": [],
   "source": [
    "if False:\n",
    "    print(\"It is true\")\n",
    "    print(8*9)"
   ]
  },
  {
   "cell_type": "code",
   "execution_count": 8,
   "id": "d722a607",
   "metadata": {},
   "outputs": [
    {
     "name": "stdout",
     "output_type": "stream",
     "text": [
      "I will be printed in any case whether x is true or not\n"
     ]
    }
   ],
   "source": [
    "x = False\n",
    "\n",
    "if x:\n",
    "    print('x was true')\n",
    "    \n",
    "else:\n",
    "    print('I will be printed in any case whether x is true or not')"
   ]
  },
  {
   "cell_type": "code",
   "execution_count": 9,
   "id": "f74e39ce",
   "metadata": {},
   "outputs": [
    {
     "name": "stdout",
     "output_type": "stream",
     "text": [
      "sum is positive\n"
     ]
    }
   ],
   "source": [
    "p = 10\n",
    "q = 20\n",
    "\n",
    "if p+q > 0:\n",
    "    print('sum is positive')\n",
    "    \n",
    "else:\n",
    "    print('sum is negative')"
   ]
  },
  {
   "cell_type": "code",
   "execution_count": 10,
   "id": "819a8f06",
   "metadata": {},
   "outputs": [
    {
     "name": "stdout",
     "output_type": "stream",
     "text": [
      "sum is negative\n"
     ]
    }
   ],
   "source": [
    "p = 10\n",
    "q = -20\n",
    "\n",
    "if p+q > 0:\n",
    "    print('sum is positive')\n",
    "    \n",
    "else:\n",
    "    print('sum is negative')"
   ]
  },
  {
   "cell_type": "code",
   "execution_count": 12,
   "id": "57205f41",
   "metadata": {},
   "outputs": [
    {
     "name": "stdout",
     "output_type": "stream",
     "text": [
      "Where are you\n"
     ]
    }
   ],
   "source": [
    "loc = 'Bank'\n",
    "\n",
    "if loc == 'Auto Shop':\n",
    "    print('Welcome to Auto Shop')\n",
    "    \n",
    "elif loc == 'car':\n",
    "    print('Welcome to Bank')\n",
    "    \n",
    "else:\n",
    "    print('Where are you')"
   ]
  },
  {
   "cell_type": "code",
   "execution_count": 13,
   "id": "e288db3a",
   "metadata": {},
   "outputs": [
    {
     "name": "stdout",
     "output_type": "stream",
     "text": [
      "This will print always\n"
     ]
    }
   ],
   "source": [
    "num = 10\n",
    "\n",
    "if None:\n",
    "    print('Number is positive')\n",
    "    \n",
    "print('This will print always')    "
   ]
  },
  {
   "cell_type": "code",
   "execution_count": 15,
   "id": "b49934f4",
   "metadata": {},
   "outputs": [
    {
     "name": "stdout",
     "output_type": "stream",
     "text": [
      "Negative Number\n"
     ]
    }
   ],
   "source": [
    "num = 0\n",
    "if num > 0:\n",
    "    print(\"positive Number\")\n",
    "    \n",
    "else:\n",
    "    print(\"Negative Number\")"
   ]
  },
  {
   "cell_type": "code",
   "execution_count": 17,
   "id": "26682730",
   "metadata": {},
   "outputs": [
    {
     "name": "stdout",
     "output_type": "stream",
     "text": [
      "Negative Number\n"
     ]
    }
   ],
   "source": [
    "num = -2\n",
    "if num > 0:\n",
    "    print(\"positive Number\")\n",
    "    \n",
    "elif num == 0:\n",
    "    print(\"Zero\")\n",
    "    \n",
    "else:\n",
    "    print(\"Negative Number\")"
   ]
  },
  {
   "cell_type": "code",
   "execution_count": 18,
   "id": "00114905",
   "metadata": {},
   "outputs": [],
   "source": [
    "# Nested if(if inside if)"
   ]
  },
  {
   "cell_type": "code",
   "execution_count": 20,
   "id": "8098a8f7",
   "metadata": {},
   "outputs": [
    {
     "name": "stdout",
     "output_type": "stream",
     "text": [
      "Negative Number\n"
     ]
    }
   ],
   "source": [
    "num = -20\n",
    "\n",
    "if num >=0:\n",
    "    if num == 0:\n",
    "        print('zero')\n",
    "        \n",
    "    else:\n",
    "        print('positive number')\n",
    "        \n",
    "else:\n",
    "    print(\"Negative Number\")"
   ]
  },
  {
   "cell_type": "markdown",
   "id": "23b90aa3",
   "metadata": {},
   "source": [
    "# Write a program to find the largest number among the three number"
   ]
  },
  {
   "cell_type": "code",
   "execution_count": 23,
   "id": "365fe198",
   "metadata": {},
   "outputs": [
    {
     "name": "stdout",
     "output_type": "stream",
     "text": [
      "Largest element amoung th three numbers is : 50\n"
     ]
    }
   ],
   "source": [
    "num1 = 10\n",
    "num2 = 50\n",
    "num3 = 15\n",
    "\n",
    "if (num1 >= num2) and (num1 >= num3):\n",
    "    largest = num1\n",
    "    \n",
    "elif (num2 >= num1) and (num2 >= num3):\n",
    "    largest = num2\n",
    "\n",
    "else:\n",
    "    largest = num3\n",
    "    \n",
    "print(f\"Largest element amoung th three numbers is : {largest}\")    \n",
    "\n"
   ]
  },
  {
   "cell_type": "code",
   "execution_count": 25,
   "id": "635e892f",
   "metadata": {},
   "outputs": [],
   "source": [
    "num1=10\n",
    "num2=50\n",
    "num3=100\n",
    "#find largest among the 3 numbers\n",
    "if num1>num2:\n",
    "    if num1>num3:\n",
    "        print(\"Num1 is largest.\")\n",
    "    elif num3>num2:\n",
    "        print(\"Num3 largest.\")\n",
    "elif num2>num3:\n",
    "    print(\"Num2 is largest.\")"
   ]
  },
  {
   "cell_type": "code",
   "execution_count": 27,
   "id": "d7ad19b2",
   "metadata": {},
   "outputs": [
    {
     "name": "stdout",
     "output_type": "stream",
     "text": [
      "Enter Price: 50\n",
      "Discount :2.0\n",
      "Net Payable Amount:  48.0\n"
     ]
    }
   ],
   "source": [
    "Total_price = int(input(\"Enter Price: \"))\n",
    "if Total_price < 100:\n",
    "    discount = Total_price * .04\n",
    "    print(\"Discount :\" + str(discount))\n",
    "    \n",
    "else:\n",
    "    discount = Total_price * .1\n",
    "    print(\"Discount : \" + str(discount))\n",
    "    \n",
    "print(\"Net Payable Amount: \", Total_price - discount)    "
   ]
  },
  {
   "cell_type": "code",
   "execution_count": 28,
   "id": "40d812d7",
   "metadata": {},
   "outputs": [
    {
     "name": "stdout",
     "output_type": "stream",
     "text": [
      "Enter Price: 40\n",
      "Discount : 1.6\n",
      "Net Payable Amount:  38.4\n"
     ]
    }
   ],
   "source": [
    "Total_price = int(input(\"Enter Price: \"))\n",
    "if Total_price < 100:\n",
    "    discount = Total_price * .04\n",
    "    print(\"Discount :\",discount)\n",
    "    \n",
    "else:\n",
    "    discount = Total_price * .1\n",
    "    print(\"Discount : \", discount)\n",
    "    \n",
    "print(\"Net Payable Amount: \", Total_price - discount)"
   ]
  },
  {
   "cell_type": "code",
   "execution_count": null,
   "id": "8c889997",
   "metadata": {},
   "outputs": [],
   "source": [
    "Total_price < 100\n",
    "discount = 4 percent\n",
    "\n",
    "Total_price < 500\n",
    "discount = 8 percent\n",
    " \n",
    "Total_price < 1000\n",
    "discount = 10 percent\n",
    "\n",
    "Total_price >= 1000\n",
    "discount = 12 percent"
   ]
  },
  {
   "cell_type": "code",
   "execution_count": 30,
   "id": "000c8007",
   "metadata": {},
   "outputs": [
    {
     "name": "stdout",
     "output_type": "stream",
     "text": [
      "Enter Price: 900\n",
      "Discount : 90.0\n",
      "Net Payable Amount:  810.0\n"
     ]
    }
   ],
   "source": [
    "Total_price = int(input(\"Enter Price: \"))\n",
    "if Total_price < 100:\n",
    "    discount = Total_price * .04\n",
    "    print(\"Discount :\",discount)\n",
    "\n",
    "elif Total_price < 500:\n",
    "    discount = Total_price * .08\n",
    "    print(\"Discount :\",discount) \n",
    "    \n",
    "\n",
    "elif Total_price < 1000:\n",
    "    discount = Total_price * .1\n",
    "    print(\"Discount :\",discount)    \n",
    "        \n",
    "    \n",
    "else:\n",
    "    discount = Total_price * .12\n",
    "    print(\"Discount : \", discount)\n",
    "    \n",
    "print(\"Net Payable Amount: \", Total_price - discount)"
   ]
  },
  {
   "cell_type": "code",
   "execution_count": null,
   "id": "4c92bdcf",
   "metadata": {},
   "outputs": [],
   "source": [
    "# range function"
   ]
  },
  {
   "cell_type": "code",
   "execution_count": null,
   "id": "99576263",
   "metadata": {},
   "outputs": [],
   "source": [
    "for i in range(10):"
   ]
  },
  {
   "cell_type": "code",
   "execution_count": 31,
   "id": "11dd41b9",
   "metadata": {},
   "outputs": [
    {
     "data": {
      "text/plain": [
       "range(0, 10)"
      ]
     },
     "execution_count": 31,
     "metadata": {},
     "output_type": "execute_result"
    }
   ],
   "source": [
    "range(10)"
   ]
  },
  {
   "cell_type": "code",
   "execution_count": 33,
   "id": "15d7b56b",
   "metadata": {},
   "outputs": [
    {
     "name": "stdout",
     "output_type": "stream",
     "text": [
      "0\n",
      "1\n",
      "2\n",
      "3\n",
      "4\n",
      "5\n",
      "6\n",
      "7\n",
      "8\n",
      "9\n"
     ]
    }
   ],
   "source": [
    "for i in range(10):\n",
    "    print(i)"
   ]
  },
  {
   "cell_type": "code",
   "execution_count": null,
   "id": "4be8c2c4",
   "metadata": {},
   "outputs": [],
   "source": [
    "range(10) = (0,1,2,3,4,5,6,7,8,9)"
   ]
  },
  {
   "cell_type": "code",
   "execution_count": 37,
   "id": "5e3bbe8a",
   "metadata": {},
   "outputs": [
    {
     "name": "stdout",
     "output_type": "stream",
     "text": [
      "0\n",
      "1\n",
      "2\n",
      "3\n",
      "4\n",
      "5\n",
      "6\n",
      "7\n",
      "8\n",
      "9\n"
     ]
    }
   ],
   "source": [
    "for i in [0,1,2,3,4,5,6,7,8,9]:\n",
    "    print(i)"
   ]
  },
  {
   "cell_type": "code",
   "execution_count": 38,
   "id": "61e5008c",
   "metadata": {},
   "outputs": [
    {
     "name": "stdout",
     "output_type": "stream",
     "text": [
      "0\n",
      "1\n",
      "2\n",
      "3\n",
      "4\n",
      "5\n",
      "6\n",
      "7\n",
      "8\n",
      "9\n"
     ]
    }
   ],
   "source": [
    "for i in (0,1,2,3,4,5,6,7,8,9):\n",
    "    print(i)"
   ]
  },
  {
   "cell_type": "code",
   "execution_count": 35,
   "id": "03e3085e",
   "metadata": {},
   "outputs": [
    {
     "name": "stdout",
     "output_type": "stream",
     "text": [
      "0\n",
      "5\n",
      "10\n",
      "15\n"
     ]
    }
   ],
   "source": [
    "for i in range(0 , 20 ,5):\n",
    "    print(i)"
   ]
  },
  {
   "cell_type": "code",
   "execution_count": 36,
   "id": "db5d4e12",
   "metadata": {},
   "outputs": [
    {
     "name": "stdout",
     "output_type": "stream",
     "text": [
      "100\n",
      "120\n",
      "140\n",
      "160\n",
      "180\n",
      "200\n",
      "220\n",
      "240\n",
      "260\n",
      "280\n"
     ]
    }
   ],
   "source": [
    "for i in range(100 , 300, 20):\n",
    "    print(i)"
   ]
  }
 ],
 "metadata": {
  "kernelspec": {
   "display_name": "Python 3 (ipykernel)",
   "language": "python",
   "name": "python3"
  },
  "language_info": {
   "codemirror_mode": {
    "name": "ipython",
    "version": 3
   },
   "file_extension": ".py",
   "mimetype": "text/x-python",
   "name": "python",
   "nbconvert_exporter": "python",
   "pygments_lexer": "ipython3",
   "version": "3.11.4"
  }
 },
 "nbformat": 4,
 "nbformat_minor": 5
}
